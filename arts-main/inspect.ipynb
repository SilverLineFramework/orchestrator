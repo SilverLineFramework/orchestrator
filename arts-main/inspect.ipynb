{
 "cells": [
  {
   "cell_type": "code",
   "execution_count": 1,
   "id": "1764fac6",
   "metadata": {},
   "outputs": [],
   "source": [
    "from matplotlib import pyplot as plt\n",
    "import os\n",
    "import json\n",
    "\n",
    "from data_load import TraceLoader"
   ]
  },
  {
   "cell_type": "code",
   "execution_count": 2,
   "id": "1ef11405",
   "metadata": {},
   "outputs": [
    {
     "name": "stdout",
     "output_type": "stream",
     "text": [
      "{'wasm/polybench/2mm.wasm': 1}\n"
     ]
    }
   ],
   "source": [
    "with open(\"data/manifest.json\") as f:\n",
    "    manifest = json.load(f)\n",
    "print(manifest)"
   ]
  },
  {
   "cell_type": "code",
   "execution_count": 3,
   "id": "db7829c9",
   "metadata": {},
   "outputs": [],
   "source": [
    "data = {\n",
    "    k.split(\"/\")[-1].split('.')[0]: TraceLoader(\"data/file-{}\".format(v))\n",
    "    for k, v in manifest.items()\n",
    "}"
   ]
  },
  {
   "cell_type": "code",
   "execution_count": 6,
   "id": "a1c3134c",
   "metadata": {},
   "outputs": [],
   "source": [
    "arr = data['2mm'].arrays()"
   ]
  },
  {
   "cell_type": "code",
   "execution_count": null,
   "id": "2bed7ec4",
   "metadata": {},
   "outputs": [],
   "source": [
    "df = data['2mm'].as_dataframe()"
   ]
  },
  {
   "cell_type": "code",
   "execution_count": null,
   "id": "e52747b7",
   "metadata": {},
   "outputs": [],
   "source": [
    "arr"
   ]
  },
  {
   "cell_type": "code",
   "execution_count": null,
   "id": "c68e8c74",
   "metadata": {},
   "outputs": [],
   "source": [
    "df.head()"
   ]
  }
 ],
 "metadata": {
  "kernelspec": {
   "display_name": "Python 3 (ipykernel)",
   "language": "python",
   "name": "python3"
  },
  "language_info": {
   "codemirror_mode": {
    "name": "ipython",
    "version": 3
   },
   "file_extension": ".py",
   "mimetype": "text/x-python",
   "name": "python",
   "nbconvert_exporter": "python",
   "pygments_lexer": "ipython3",
   "version": "3.9.7"
  }
 },
 "nbformat": 4,
 "nbformat_minor": 5
}
